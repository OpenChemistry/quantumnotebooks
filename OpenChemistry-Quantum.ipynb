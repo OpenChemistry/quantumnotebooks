{
 "cells": [
  {
   "cell_type": "code",
   "execution_count": null,
   "metadata": {},
   "outputs": [],
   "source": [
    "!pip install qiskit\n",
    "!pip install pyscf\n",
    "!pip install matplotlib"
   ]
  },
  {
   "cell_type": "code",
   "execution_count": null,
   "metadata": {},
   "outputs": [],
   "source": [
    "from qiskit import BasicAer\n",
    "from qiskit.aqua import QuantumInstance\n",
    "from qiskit.chemistry.algorithms.ground_state_solvers.minimum_eigensolver_factories import VQEUCCSDFactory\n",
    "from qiskit.chemistry.drivers import PySCFDriver, UnitsType, Molecule\n",
    "from qiskit.chemistry.transformations import FermionicTransformation, FermionicQubitMappingType\n",
    "from qiskit.aqua.algorithms import NumPyMinimumEigensolver, VQE\n",
    "from qiskit.chemistry.algorithms.ground_state_solvers import GroundStateEigensolver"
   ]
  },
  {
   "cell_type": "code",
   "execution_count": null,
   "metadata": {},
   "outputs": [],
   "source": [
    "# Set up the molcule, here we can feed data from OpenChemistry\n",
    "\n",
    "molecule = Molecule(geometry=[['Li', [0., 0., 0.]],\n",
    "                              ['Li', [0., 0., 2.67298]]],\n",
    "                     charge=0, multiplicity=1)"
   ]
  },
  {
   "cell_type": "code",
   "execution_count": null,
   "metadata": {},
   "outputs": [],
   "source": [
    "# Define the classical quantum chemistry driver to get the molecular integrals\n",
    "# Also gives us the Hartree-Fock energy and orbital energies if desired\n",
    "\n",
    "driver = PySCFDriver(molecule = molecule, unit=UnitsType.ANGSTROM, basis='sto3g')\n",
    "print('Hartree-Fock energy = ', driver.run().hf_energy)"
   ]
  },
  {
   "cell_type": "code",
   "execution_count": null,
   "metadata": {},
   "outputs": [],
   "source": [
    "# Generating a small quantum calculation freezing core and throwing away virtuals, \n",
    "# only keeping 2 electrons in 2 orbitals\n",
    "\n",
    "transformation = FermionicTransformation(qubit_mapping=FermionicQubitMappingType.JORDAN_WIGNER, \n",
    "                                         freeze_core=True, orbital_reduction=list(range(4, 10)))"
   ]
  },
  {
   "cell_type": "code",
   "execution_count": null,
   "metadata": {},
   "outputs": [],
   "source": [
    "# Quantum solver and wave function structure generator (UCCSD)\n",
    "\n",
    "vqe_solver = VQEUCCSDFactory(QuantumInstance(BasicAer.get_backend('qasm_simulator')), \n",
    "                             include_custom=True, method_doubles='succ_full')"
   ]
  },
  {
   "cell_type": "code",
   "execution_count": null,
   "metadata": {},
   "outputs": [],
   "source": [
    "# Run the smallest quantum simulation\n",
    "\n",
    "calc = GroundStateEigensolver(transformation, vqe_solver)\n",
    "res = calc.solve(driver)\n",
    "\n",
    "print(res)"
   ]
  },
  {
   "cell_type": "code",
   "execution_count": null,
   "metadata": {},
   "outputs": [],
   "source": [
    "# Generating a bit larger quantum calculation freezing core and throwing away some virtuals, \n",
    "# only keeping 2 electrons in 5 orbitals\n",
    "\n",
    "transformation = FermionicTransformation(qubit_mapping=FermionicQubitMappingType.JORDAN_WIGNER, \n",
    "                                         freeze_core=True, orbital_reduction=list(range(7, 10)))"
   ]
  },
  {
   "cell_type": "code",
   "execution_count": null,
   "metadata": {},
   "outputs": [],
   "source": [
    "# Run the bit larger quantum simulation\n",
    "\n",
    "calc = GroundStateEigensolver(transformation, vqe_solver)\n",
    "res = calc.solve(driver)\n",
    "\n",
    "print(res)"
   ]
  },
  {
   "cell_type": "code",
   "execution_count": null,
   "metadata": {},
   "outputs": [],
   "source": [
    "print(res.total_energies[0])"
   ]
  },
  {
   "cell_type": "code",
   "execution_count": null,
   "metadata": {},
   "outputs": [],
   "source": [
    "res.__dict__"
   ]
  },
  {
   "cell_type": "code",
   "execution_count": null,
   "metadata": {},
   "outputs": [],
   "source": []
  }
 ],
 "metadata": {
  "kernelspec": {
   "display_name": "Python 3",
   "language": "python",
   "name": "python3"
  },
  "language_info": {
   "codemirror_mode": {
    "name": "ipython",
    "version": 3
   },
   "file_extension": ".py",
   "mimetype": "text/x-python",
   "name": "python",
   "nbconvert_exporter": "python",
   "pygments_lexer": "ipython3",
   "version": "3.8.6"
  }
 },
 "nbformat": 4,
 "nbformat_minor": 4
}
